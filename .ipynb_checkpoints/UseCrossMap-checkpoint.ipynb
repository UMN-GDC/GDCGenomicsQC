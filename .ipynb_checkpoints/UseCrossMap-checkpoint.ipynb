{
 "cells": [
  {
   "cell_type": "code",
   "execution_count": 2,
   "id": "southeast-attraction",
   "metadata": {},
   "outputs": [
    {
     "name": "stdout",
     "output_type": "stream",
     "text": [
      "Defaulting to user installation because normal site-packages is not writeable\n",
      "Collecting CrossMap\n",
      "  Downloading CrossMap-0.6.6-py3-none-any.whl (78 kB)\n",
      "\u001b[K     |████████████████████████████████| 78 kB 720 kB/s  eta 0:00:01\n",
      "\u001b[?25hCollecting bx-python\n",
      "  Downloading bx_python-0.10.0-cp37-cp37m-manylinux_2_17_x86_64.manylinux2014_x86_64.whl (5.1 MB)\n",
      "\u001b[K     |████████████████████████████████| 5.1 MB 79.7 MB/s eta 0:00:01\n",
      "\u001b[?25hCollecting pyBigWig\n",
      "  Downloading pyBigWig-0.3.22-cp37-cp37m-manylinux_2_17_x86_64.manylinux2014_x86_64.whl (192 kB)\n",
      "\u001b[K     |████████████████████████████████| 192 kB 79.4 MB/s eta 0:00:01\n",
      "\u001b[?25hCollecting pysam\n",
      "  Downloading pysam-0.21.0.tar.gz (4.1 MB)\n",
      "\u001b[K     |████████████████████████████████| 4.1 MB 81.7 MB/s eta 0:00:01\n",
      "\u001b[?25h  Installing build dependencies ... \u001b[?25ldone\n",
      "\u001b[?25h  Getting requirements to build wheel ... \u001b[?25ldone\n",
      "\u001b[?25h    Preparing wheel metadata ... \u001b[?25ldone\n",
      "\u001b[?25hCollecting cython>=0.17\n",
      "  Downloading Cython-3.0.2-cp37-cp37m-manylinux_2_17_x86_64.manylinux2014_x86_64.whl (3.5 MB)\n",
      "\u001b[K     |████████████████████████████████| 3.5 MB 90.5 MB/s eta 0:00:01\n",
      "\u001b[?25hRequirement already satisfied: numpy in /common/software/install/migrated/pytorch/1.2_python3.7/lib/python3.7/site-packages (from bx-python->CrossMap) (1.21.2)\n",
      "Building wheels for collected packages: pysam\n",
      "  Building wheel for pysam (PEP 517) ... \u001b[?25ldone\n",
      "\u001b[?25h  Created wheel for pysam: filename=pysam-0.21.0-cp37-cp37m-linux_x86_64.whl size=15066344 sha256=dd38032ad62b499e7c34d405bfd7fa8a4e0bd2ab36485a96ac5a92439253e04e\n",
      "  Stored in directory: /panfs/jay/groups/16/saonli/baron063/.cache/pip/wheels/e6/b1/f6/530b7d1517105c8524f817145b23e79c6bc0914625c0c7e39b\n",
      "Successfully built pysam\n",
      "Installing collected packages: cython, pysam, pyBigWig, bx-python, CrossMap\n",
      "\u001b[33m  WARNING: The scripts cygdb, cython and cythonize are installed in '/home/saonli/baron063/.local/bin' which is not on PATH.\n",
      "  Consider adding this directory to PATH or, if you prefer to suppress this warning, use --no-warn-script-location.\u001b[0m\n",
      "Successfully installed CrossMap-0.6.6 bx-python-0.10.0 cython-3.0.2 pyBigWig-0.3.22 pysam-0.21.0\n",
      "Note: you may need to restart the kernel to use updated packages.\n"
     ]
    }
   ],
   "source": [
    "pip install CrossMap"
   ]
  },
  {
   "cell_type": "code",
   "execution_count": 8,
   "id": "quarterly-aquarium",
   "metadata": {},
   "outputs": [
    {
     "ename": "NameError",
     "evalue": "name 'CrossMap' is not defined",
     "output_type": "error",
     "traceback": [
      "\u001b[0;31m---------------------------------------------------------------------------\u001b[0m",
      "\u001b[0;31mNameError\u001b[0m                                 Traceback (most recent call last)",
      "\u001b[0;32m/tmp/ipykernel_1677128/60323147.py\u001b[0m in \u001b[0;36m<module>\u001b[0;34m\u001b[0m\n\u001b[1;32m      1\u001b[0m \u001b[0;32mimport\u001b[0m \u001b[0msys\u001b[0m\u001b[0;34m\u001b[0m\u001b[0;34m\u001b[0m\u001b[0m\n\u001b[1;32m      2\u001b[0m \u001b[0msys\u001b[0m\u001b[0;34m.\u001b[0m\u001b[0mpath\u001b[0m\u001b[0;34m.\u001b[0m\u001b[0minsert\u001b[0m\u001b[0;34m(\u001b[0m\u001b[0;36m0\u001b[0m\u001b[0;34m,\u001b[0m \u001b[0;34m'/home/saonli/baron063/.local/bin'\u001b[0m\u001b[0;34m)\u001b[0m\u001b[0;34m\u001b[0m\u001b[0;34m\u001b[0m\u001b[0m\n\u001b[0;32m----> 3\u001b[0;31m \u001b[0mCrossMap\u001b[0m\u001b[0;34m.\u001b[0m\u001b[0mpy\u001b[0m\u001b[0;34m\u001b[0m\u001b[0;34m\u001b[0m\u001b[0m\n\u001b[0m",
      "\u001b[0;31mNameError\u001b[0m: name 'CrossMap' is not defined"
     ]
    }
   ],
   "source": [
    "import sys\n",
    "sys.path.insert(0, '/home/saonli/baron063/.local/bin')\n",
    "CrossMap.py"
   ]
  },
  {
   "cell_type": "code",
   "execution_count": null,
   "id": "binding-completion",
   "metadata": {},
   "outputs": [],
   "source": []
  }
 ],
 "metadata": {
  "kernelspec": {
   "display_name": "MSI_Pytorch_1.2",
   "language": "python",
   "name": "python3"
  },
  "language_info": {
   "codemirror_mode": {
    "name": "ipython",
    "version": 3
   },
   "file_extension": ".py",
   "mimetype": "text/x-python",
   "name": "python",
   "nbconvert_exporter": "python",
   "pygments_lexer": "ipython3",
   "version": "3.7.11"
  }
 },
 "nbformat": 4,
 "nbformat_minor": 5
}
